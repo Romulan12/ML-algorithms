{
  "nbformat": 4,
  "nbformat_minor": 0,
  "metadata": {
    "colab": {
      "name": "K-means clustering.ipynb",
      "provenance": [],
      "collapsed_sections": []
    },
    "kernelspec": {
      "name": "python3",
      "display_name": "Python 3"
    },
    "accelerator": "GPU"
  },
  "cells": [
    {
      "cell_type": "code",
      "metadata": {
        "id": "jvqkfgJfUuIK",
        "colab_type": "code",
        "colab": {}
      },
      "source": [
        "import matplotlib.pyplot as plt"
      ],
      "execution_count": 0,
      "outputs": []
    },
    {
      "cell_type": "code",
      "metadata": {
        "id": "ijZ-jjLXnPwh",
        "colab_type": "code",
        "colab": {}
      },
      "source": [
        "from matplotlib import style"
      ],
      "execution_count": 0,
      "outputs": []
    },
    {
      "cell_type": "code",
      "metadata": {
        "id": "Oor8TTtQnTIi",
        "colab_type": "code",
        "colab": {}
      },
      "source": [
        "style.use(\"ggplot\")"
      ],
      "execution_count": 0,
      "outputs": []
    },
    {
      "cell_type": "code",
      "metadata": {
        "id": "WzBD-1YcoOWg",
        "colab_type": "code",
        "colab": {}
      },
      "source": [
        "import numpy as np"
      ],
      "execution_count": 0,
      "outputs": []
    },
    {
      "cell_type": "code",
      "metadata": {
        "id": "Iyd-p3KKoQY2",
        "colab_type": "code",
        "colab": {}
      },
      "source": [
        "from sklearn.cluster import KMeans"
      ],
      "execution_count": 0,
      "outputs": []
    },
    {
      "cell_type": "code",
      "metadata": {
        "id": "HVFH4rN5oUsN",
        "colab_type": "code",
        "colab": {}
      },
      "source": [
        "X = np.array([[1,2],\n",
        "             [1.5,1.8],\n",
        "             [5,8],\n",
        "             [1,0.6],\n",
        "             [9,11], \n",
        "              [8,8]])\n"
      ],
      "execution_count": 0,
      "outputs": []
    },
    {
      "cell_type": "code",
      "metadata": {
        "id": "rrdH_TproiAA",
        "colab_type": "code",
        "colab": {}
      },
      "source": [
        "#plt.scatter(X[:,0],X[:,1], s = 150, linewidth = 5)\n",
        "#plt.show()"
      ],
      "execution_count": 0,
      "outputs": []
    },
    {
      "cell_type": "code",
      "metadata": {
        "id": "j9W39_0Ro_G2",
        "colab_type": "code",
        "outputId": "98530c94-0ec3-4fa8-cb54-cb0c31f37826",
        "colab": {
          "base_uri": "https://localhost:8080/",
          "height": 67
        }
      },
      "source": [
        "classifier = KMeans(n_clusters = 2)  \n",
        "classifier.fit(X)\n",
        "\n"
      ],
      "execution_count": 8,
      "outputs": [
        {
          "output_type": "execute_result",
          "data": {
            "text/plain": [
              "KMeans(algorithm='auto', copy_x=True, init='k-means++', max_iter=300,\n",
              "       n_clusters=2, n_init=10, n_jobs=None, precompute_distances='auto',\n",
              "       random_state=None, tol=0.0001, verbose=0)"
            ]
          },
          "metadata": {
            "tags": []
          },
          "execution_count": 8
        }
      ]
    },
    {
      "cell_type": "code",
      "metadata": {
        "id": "A_wvG-C3peGw",
        "colab_type": "code",
        "colab": {}
      },
      "source": [
        "centroids = classifier.cluster_centers_\n",
        "labels = classifier.labels_"
      ],
      "execution_count": 0,
      "outputs": []
    },
    {
      "cell_type": "code",
      "metadata": {
        "id": "vkx63H3Cp4p7",
        "colab_type": "code",
        "colab": {}
      },
      "source": [
        "colors = [\"g. \", \"r. \", \"c.\", \"b.\", \".k\"]*10"
      ],
      "execution_count": 0,
      "outputs": []
    },
    {
      "cell_type": "code",
      "metadata": {
        "id": "lUunPs8Hsp9h",
        "colab_type": "code",
        "outputId": "15af8122-245c-4fad-d40b-ea4084f2ba23",
        "colab": {
          "base_uri": "https://localhost:8080/",
          "height": 265
        }
      },
      "source": [
        "for i in range(len(X)):\n",
        "  plt.plot(X[i][0],X[i][1], colors[labels[i]], markersize = 20)\n",
        "plt.scatter(centroids[:,0], centroids[:,1], marker= 'x', s=150, linewidths=5)\n",
        "plt.show()"
      ],
      "execution_count": 11,
      "outputs": [
        {
          "output_type": "display_data",
          "data": {
            "image/png": "[encoded data removed]",
            "text/plain": [
              "<Figure size 432x288 with 1 Axes>"
            ]
          },
          "metadata": {
            "tags": []
          }
        }
      ]
    },
    {
      "cell_type": "code",
      "metadata": {
        "id": "SDrC26ebuqM6",
        "colab_type": "code",
        "colab": {
          "base_uri": "https://localhost:8080/",
          "height": 50
        },
        "outputId": "02108bbd-3edd-42c7-9309-607d4c67e519"
      },
      "source": [
        "!git remote add origin https://github.com/Romulan12/ML-algorithms.git\n",
        "!git push -u origin master"
      ],
      "execution_count": 13,
      "outputs": [
        {
          "output_type": "stream",
          "text": [
            "fatal: not a git repository (or any of the parent directories): .git\n",
            "fatal: not a git repository (or any of the parent directories): .git\n"
          ],
          "name": "stdout"
        }
      ]
    },
    {
      "cell_type": "code",
      "metadata": {
        "id": "FTAhyRGu79kg",
        "colab_type": "code",
        "colab": {}
      },
      "source": [
        ""
      ],
      "execution_count": 0,
      "outputs": []
    }
  ]
}